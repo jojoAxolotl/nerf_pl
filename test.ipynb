{
 "cells": [
  {
   "cell_type": "code",
   "execution_count": 5,
   "metadata": {},
   "outputs": [],
   "source": [
    "import torch\n",
    "from utils import *\n",
    "from collections import defaultdict\n",
    "import matplotlib.pyplot as plt\n",
    "import time\n",
    "\n",
    "from models.rendering import *\n",
    "from models.nerf import *\n",
    "\n",
    "import metrics\n",
    "\n",
    "from datasets import dataset_dict\n",
    "from datasets.llff import *\n",
    "\n",
    "torch.backends.cudnn.benchmark = True\n",
    "\n",
    "img_wh = (256, 256)\n",
    "\n",
    "# dataset = dataset_dict['llff'] \\\n",
    "#           ('/home/ubuntu/data/nerf_example_data/my/silica4/', 'test_train', spheric_poses=True,\n",
    "#            img_wh=img_wh)\n",
    "\n",
    "# dataset = dataset_dict['blender'] \\\n",
    "#           ('/home/ubuntu/data/nerf_example_data/nerf_synthetic/lego/', 'test',\n",
    "#            img_wh=img_wh)\n",
    "\n",
    "dataset = dataset_dict['klevr'] \\\n",
    "          ('/home/joko/dlcv-fall-2023-hw4-jojoAxolotl/dataset', 'val',\n",
    "           img_wh=img_wh)"
   ]
  },
  {
   "cell_type": "code",
   "execution_count": 6,
   "metadata": {},
   "outputs": [
    {
     "name": "stdout",
     "output_type": "stream",
     "text": [
      "embed_xyz: 7\n",
      "embed_dir: 4\n",
      "embed_xyz: 7\n",
      "embed_dir: 4\n"
     ]
    },
    {
     "data": {
      "text/plain": [
       "NeRF(\n",
       "  (xyz_encoding_1): Sequential(\n",
       "    (0): Linear(in_features=45, out_features=256, bias=True)\n",
       "    (1): ReLU(inplace=True)\n",
       "  )\n",
       "  (xyz_encoding_2): Sequential(\n",
       "    (0): Linear(in_features=256, out_features=256, bias=True)\n",
       "    (1): ReLU(inplace=True)\n",
       "  )\n",
       "  (xyz_encoding_3): Sequential(\n",
       "    (0): Linear(in_features=256, out_features=256, bias=True)\n",
       "    (1): ReLU(inplace=True)\n",
       "  )\n",
       "  (xyz_encoding_4): Sequential(\n",
       "    (0): Linear(in_features=256, out_features=256, bias=True)\n",
       "    (1): ReLU(inplace=True)\n",
       "  )\n",
       "  (xyz_encoding_5): Sequential(\n",
       "    (0): Linear(in_features=301, out_features=256, bias=True)\n",
       "    (1): ReLU(inplace=True)\n",
       "  )\n",
       "  (xyz_encoding_6): Sequential(\n",
       "    (0): Linear(in_features=256, out_features=256, bias=True)\n",
       "    (1): ReLU(inplace=True)\n",
       "  )\n",
       "  (xyz_encoding_7): Sequential(\n",
       "    (0): Linear(in_features=256, out_features=256, bias=True)\n",
       "    (1): ReLU(inplace=True)\n",
       "  )\n",
       "  (xyz_encoding_8): Sequential(\n",
       "    (0): Linear(in_features=256, out_features=256, bias=True)\n",
       "    (1): ReLU(inplace=True)\n",
       "  )\n",
       "  (xyz_encoding_final): Linear(in_features=256, out_features=256, bias=True)\n",
       "  (dir_encoding): Sequential(\n",
       "    (0): Linear(in_features=283, out_features=128, bias=True)\n",
       "    (1): ReLU(inplace=True)\n",
       "  )\n",
       "  (sigma): Linear(in_features=256, out_features=1, bias=True)\n",
       "  (rgb): Sequential(\n",
       "    (0): Linear(in_features=128, out_features=3, bias=True)\n",
       "    (1): Sigmoid()\n",
       "  )\n",
       ")"
      ]
     },
     "execution_count": 6,
     "metadata": {},
     "output_type": "execute_result"
    }
   ],
   "source": [
    "embedding_xyz = Embedding(3, 7)\n",
    "embedding_dir = Embedding(3, 4)\n",
    "\n",
    "nerf_coarse = NeRF()\n",
    "nerf_fine = NeRF()\n",
    "\n",
    "ckpt_path = '/home/joko/dlcv-fall-2023-hw4-jojoAxolotl/ckpts/settingC/epoch=10.ckpt'\n",
    "\n",
    "load_ckpt(nerf_coarse, ckpt_path, model_name='nerf_coarse')\n",
    "load_ckpt(nerf_fine, ckpt_path, model_name='nerf_fine')\n",
    "\n",
    "nerf_coarse.cuda().eval()\n",
    "nerf_fine.cuda().eval()"
   ]
  },
  {
   "cell_type": "code",
   "execution_count": 7,
   "metadata": {},
   "outputs": [],
   "source": [
    "models = [nerf_coarse, nerf_fine]\n",
    "embeddings = [embedding_xyz, embedding_dir]\n",
    "\n",
    "N_samples = 64\n",
    "N_importance = 64\n",
    "use_disp = False\n",
    "chunk = 1024*32*4\n",
    "\n",
    "@torch.no_grad()\n",
    "def f(rays):\n",
    "    \"\"\"Do batched inference on rays using chunk.\"\"\"\n",
    "    B = rays.shape[0]\n",
    "    results = defaultdict(list)\n",
    "    for i in range(0, B, chunk):\n",
    "        rendered_ray_chunks = \\\n",
    "            render_rays(models,\n",
    "                        embeddings,\n",
    "                        rays[i:i+chunk],\n",
    "                        N_samples,\n",
    "                        use_disp,\n",
    "                        0,\n",
    "                        0,\n",
    "                        N_importance,\n",
    "                        chunk,\n",
    "                        dataset.white_back,\n",
    "                        test_time=True)\n",
    "\n",
    "        for k, v in rendered_ray_chunks.items():\n",
    "            results[k] += [v]\n",
    "\n",
    "    for k, v in results.items():\n",
    "        results[k] = torch.cat(v, 0)\n",
    "    return results"
   ]
  },
  {
   "cell_type": "code",
   "execution_count": 8,
   "metadata": {},
   "outputs": [
    {
     "name": "stdout",
     "output_type": "stream",
     "text": [
      "3.5258278846740723\n"
     ]
    }
   ],
   "source": [
    "sample = dataset[0]\n",
    "rays = sample['rays'].cuda()\n",
    "\n",
    "t = time.time()\n",
    "results = f(rays)\n",
    "torch.cuda.synchronize()\n",
    "print(time.time()-t)"
   ]
  },
  {
   "cell_type": "code",
   "execution_count": 10,
   "metadata": {},
   "outputs": [
    {
     "name": "stdout",
     "output_type": "stream",
     "text": [
      "PSNR 36.3399658203125\n"
     ]
    },
    {
     "data": {
      "image/png": "[encoded data removed]",
      "text/plain": [
       "<Figure size 640x480 with 1 Axes>"
      ]
     },
     "metadata": {},
     "output_type": "display_data"
    }
   ],
   "source": [
    "img_gt = sample['rgbs'].view(img_wh[1], img_wh[0], 3)\n",
    "img_pred = results['rgb_fine'].view(img_wh[1], img_wh[0], 3).cpu().numpy()\n",
    "alpha_pred = results['opacity_fine'].view(img_wh[1], img_wh[0]).cpu().numpy()\n",
    "depth_pred = results['depth_fine'].view(img_wh[1], img_wh[0])\n",
    "\n",
    "print('PSNR', metrics.psnr(img_gt, img_pred).item())\n",
    "\n",
    "# plt.subplots(figsize=(15, 8))\n",
    "# plt.tight_layout()\n",
    "# plt.subplot(221)\n",
    "# plt.title('GT')\n",
    "# plt.imshow(img_gt)\n",
    "# plt.subplot(222)\n",
    "# plt.title('pred')\n",
    "# plt.imshow(img_pred)\n",
    "\n",
    "plt.subplot(223)\n",
    "plt.title('depth')\n",
    "plt.imshow(visualize_depth(depth_pred).permute(1,2,0))\n",
    "plt.savefig(\"depth\")\n",
    "plt.show()"
   ]
  },
  {
   "cell_type": "code",
   "execution_count": null,
   "metadata": {},
   "outputs": [],
   "source": []
  }
 ],
 "metadata": {
  "kernelspec": {
   "display_name": "hw4",
   "language": "python",
   "name": "python3"
  },
  "language_info": {
   "codemirror_mode": {
    "name": "ipython",
    "version": 3
   },
   "file_extension": ".py",
   "mimetype": "text/x-python",
   "name": "python",
   "nbconvert_exporter": "python",
   "pygments_lexer": "ipython3",
   "version": "3.9.18"
  }
 },
 "nbformat": 4,
 "nbformat_minor": 4
}
